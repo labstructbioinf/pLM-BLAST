{
 "cells": [
  {
   "cell_type": "code",
   "execution_count": 1,
   "metadata": {},
   "outputs": [
    {
     "name": "stderr",
     "output_type": "stream",
     "text": [
      "/home/users/kkaminski/anaconda3/envs/plmblast/lib/python3.9/site-packages/tqdm/auto.py:22: TqdmWarning: IProgress not found. Please update jupyter and ipywidgets. See https://ipywidgets.readthedocs.io/en/stable/user_install.html\n",
      "  from .autonotebook import tqdm as notebook_tqdm\n"
     ]
    }
   ],
   "source": [
    "import os\n",
    "import sys\n",
    "from time import perf_counter as timeit\n",
    "sys.path.append('..')\n",
    "import torch\n",
    "import gzip\n",
    "import numpy as np\n",
    "from tqdm import tqdm\n",
    "\n",
    "import alntools as aln\n",
    "import alntools.density as ds"
   ]
  },
  {
   "cell_type": "code",
   "execution_count": 2,
   "metadata": {},
   "outputs": [],
   "source": [
    "example_emb = \"/home/nfs/kkaminski/PLMBLST/ecod70db_20220902\""
   ]
  },
  {
   "cell_type": "code",
   "execution_count": 6,
   "metadata": {},
   "outputs": [
    {
     "name": "stderr",
     "output_type": "stream",
     "text": [
      "100%|██████████| 5000/5000 [00:01<00:00, 4757.41it/s]\n"
     ]
    }
   ],
   "source": [
    "filelist = [os.path.join(example_emb, f'{f}.emb') for f in range(15000, 16000)]\n",
    "embedding_list = ds.load_full_embeddings(filelist)"
   ]
  },
  {
   "cell_type": "code",
   "execution_count": 7,
   "metadata": {},
   "outputs": [
    {
     "name": "stderr",
     "output_type": "stream",
     "text": [
      " 38%|███▊      | 1914/5000 [11:27<18:27,  2.79it/s]\n"
     ]
    },
    {
     "ename": "KeyboardInterrupt",
     "evalue": "",
     "output_type": "error",
     "traceback": [
      "\u001b[0;31m---------------------------------------------------------------------------\u001b[0m",
      "\u001b[0;31mKeyboardInterrupt\u001b[0m                         Traceback (most recent call last)",
      "\u001b[1;32m/home/users/kkaminski/apps/pLM-BLAST/dev/debug.ipynb Cell 4\u001b[0m in \u001b[0;36m6\n\u001b[1;32m      <a href='vscode-notebook-cell://ssh-remote%2Bedi00/home/users/kkaminski/apps/pLM-BLAST/dev/debug.ipynb#X13sdnNjb2RlLXJlbW90ZQ%3D%3D?line=3'>4</a>\u001b[0m \u001b[39mfor\u001b[39;00m emb \u001b[39min\u001b[39;00m tqdm(embedding_list):\n\u001b[1;32m      <a href='vscode-notebook-cell://ssh-remote%2Bedi00/home/users/kkaminski/apps/pLM-BLAST/dev/debug.ipynb#X13sdnNjb2RlLXJlbW90ZQ%3D%3D?line=4'>5</a>\u001b[0m     emb \u001b[39m=\u001b[39m torch\u001b[39m.\u001b[39mfrom_numpy(emb)\u001b[39m.\u001b[39mfloat()\n\u001b[0;32m----> <a href='vscode-notebook-cell://ssh-remote%2Bedi00/home/users/kkaminski/apps/pLM-BLAST/dev/debug.ipynb#X13sdnNjb2RlLXJlbW90ZQ%3D%3D?line=5'>6</a>\u001b[0m     score \u001b[39m=\u001b[39m ds\u001b[39m.\u001b[39;49mlocal\u001b[39m.\u001b[39;49mchunk_cosine_similarity(X, emb)\n\u001b[1;32m      <a href='vscode-notebook-cell://ssh-remote%2Bedi00/home/users/kkaminski/apps/pLM-BLAST/dev/debug.ipynb#X13sdnNjb2RlLXJlbW90ZQ%3D%3D?line=6'>7</a>\u001b[0m     scorelist\u001b[39m.\u001b[39mappend(score)\n",
      "File \u001b[0;32m~/apps/pLM-BLAST/dev/../alntools/density/local.py:217\u001b[0m, in \u001b[0;36mchunk_cosine_similarity\u001b[0;34m(emb1, emb2)\u001b[0m\n\u001b[1;32m    214\u001b[0m allowed_kernels \u001b[39m=\u001b[39m \u001b[39m50\u001b[39m\n\u001b[1;32m    215\u001b[0m max_kernelsize \u001b[39m=\u001b[39m allowed_kernels \u001b[39mif\u001b[39;00m \u001b[39mmin\u001b[39m(s1, s2) \u001b[39m<\u001b[39m allowed_kernels \u001b[39melse\u001b[39;00m \u001b[39mmin\u001b[39m(s1, s2)\n\u001b[0;32m--> 217\u001b[0m density \u001b[39m=\u001b[39m get_fast_density(emb1, emb2, max_kernelsize)\n\u001b[1;32m    218\u001b[0m density_max \u001b[39m=\u001b[39m density\u001b[39m.\u001b[39mmax()\n\u001b[1;32m    219\u001b[0m \u001b[39mreturn\u001b[39;00m density_max\n",
      "\u001b[0;31mKeyboardInterrupt\u001b[0m: "
     ]
    }
   ],
   "source": [
    "X = embedding_list[-1]\n",
    "X = torch.from_numpy(X).float()\n",
    "scorelist = []\n",
    "for emb in tqdm(embedding_list):\n",
    "    emb = torch.from_numpy(emb).float()\n",
    "    score = ds.local.chunk_cosine_similarity(X, emb)\n",
    "    scorelist.append(score)"
   ]
  },
  {
   "cell_type": "code",
   "execution_count": null,
   "metadata": {},
   "outputs": [],
   "source": []
  }
 ],
 "metadata": {
  "kernelspec": {
   "display_name": "Python 3.9.15 ('plmblast': conda)",
   "language": "python",
   "name": "python3"
  },
  "language_info": {
   "codemirror_mode": {
    "name": "ipython",
    "version": 3
   },
   "file_extension": ".py",
   "mimetype": "text/x-python",
   "name": "python",
   "nbconvert_exporter": "python",
   "pygments_lexer": "ipython3",
   "version": "3.9.15"
  },
  "orig_nbformat": 4,
  "vscode": {
   "interpreter": {
    "hash": "fa0c6c8250cfedeadeb52c8f10e736609db2543ad5806ceaca981266c865e90c"
   }
  }
 },
 "nbformat": 4,
 "nbformat_minor": 2
}
