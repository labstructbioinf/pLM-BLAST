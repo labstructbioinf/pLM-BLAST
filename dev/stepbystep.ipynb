{
 "cells": [
  {
   "cell_type": "code",
   "execution_count": 1,
   "metadata": {},
   "outputs": [
    {
     "name": "stderr",
     "output_type": "stream",
     "text": [
      "/home/users/kkaminski/anaconda3/envs/plmblast/lib/python3.9/site-packages/tqdm/auto.py:22: TqdmWarning: IProgress not found. Please update jupyter and ipywidgets. See https://ipywidgets.readthedocs.io/en/stable/user_install.html\n",
      "  from .autonotebook import tqdm as notebook_tqdm\n"
     ]
    }
   ],
   "source": [
    "import sys\n",
    "import time\n",
    "import os\n",
    "import gc\n",
    "import argparse\n",
    "import numpy as np\n",
    "import pandas as pd\n",
    "import concurrent\n",
    "from tqdm import tqdm\n",
    "\n",
    "sys.path.append('..')\n",
    "import alntools.density as ds\n",
    "import alntools as aln\n",
    "from alntools.postprocess import filter_result_dataframe\n",
    "from alntools.numeric import embedding_local_similarity"
   ]
  },
  {
   "cell_type": "code",
   "execution_count": 6,
   "metadata": {},
   "outputs": [
    {
     "name": "stderr",
     "output_type": "stream",
     "text": [
      "loading embeddings: 100%|██████████| 50/50 [00:00<00:00, 2392.94it/s]"
     ]
    },
    {
     "name": "stdout",
     "output_type": "stream",
     "text": [
      "embedding missing files:  0\n",
      "50\n",
      "filter True\n",
      "workers 1\n",
      "samples 50 50\n",
      "batch size 1\n",
      "num batches per query 50\n"
     ]
    },
    {
     "name": "stderr",
     "output_type": "stream",
     "text": [
      "\n"
     ]
    }
   ],
   "source": [
    "db = \"/home/nfs/kkaminski/PLMBLST/ecod70db_20220902\"\n",
    "module = aln.base.Extractor()\n",
    "module.SIGMA_FACTOR = 1\n",
    "module.WINDOW_SIZE = 10\n",
    "module.GAP_OPEN = 0\n",
    "module.GAP_EXT = 0\n",
    "module.BFACTOR = 1\n",
    "module.FILTER_RESULTS = True\n",
    "head = 50\n",
    "data = pd.read_csv(db + '.csv').head(head)\n",
    "dbsize = data.shape[0]\n",
    "num_combinations = dbsize * (dbsize - 1) // 2\n",
    "filelist = [os.path.join(db, f'{fileid}.emb') for fileid in range(0, 59990)]\n",
    "filelist = filelist[:head]\n",
    "filedict = {i : file for i, file in enumerate(filelist)}\n",
    "#assert dbsize == len(filelist)\n",
    "embedding_list = ds.load_full_embeddings(filelist=filelist, poolfactor=4)\n",
    "embedding_list = [emb.numpy() for emb in embedding_list]\n",
    "record_stack : list = []\n",
    "step = 60\n",
    "\n",
    "\n",
    "batchiter = aln.base.BatchIterator(filedict, 1)\n",
    "print(len(batchiter))\n",
    "print('filter', module.FILTER_RESULTS)\n",
    "print('workers', 1)\n",
    "print('samples', len(embedding_list), len(filelist))\n",
    "print('batch size', batchiter.batchsize)\n",
    "print('num batches per query', len(batchiter))"
   ]
  },
  {
   "cell_type": "code",
   "execution_count": 7,
   "metadata": {},
   "outputs": [
    {
     "name": "stderr",
     "output_type": "stream",
     "text": [
      "50it [00:10,  4.59it/s]\n"
     ]
    }
   ],
   "source": [
    "record_stack = []\n",
    "for idx, (file, emb) in tqdm(enumerate(zip(filelist, embedding_list))):\n",
    "        for batchfiles, batchslice in batchiter:\n",
    "                # submit jobs\n",
    "            for (idx1, file1), emb1 in zip(batchfiles, embedding_list[batchslice]):\n",
    "                    iter_id = f'{idx}-{idx1}'\n",
    "                    job = module.full_compare(emb, emb1, iter_id, file1, 0.2)\n",
    "                    if any(job):\n",
    "                        record_stack.append(job)\n",
    "record_stack = pd.concat(record_stack, axis=0)"
   ]
  },
  {
   "cell_type": "code",
   "execution_count": 8,
   "metadata": {},
   "outputs": [
    {
     "name": "stdout",
     "output_type": "stream",
     "text": [
      "mean aln len 49.77823691460055\n",
      "num alns 726\n"
     ]
    }
   ],
   "source": [
    "print('mean aln len', record_stack.len.mean())\n",
    "print('num alns', record_stack.shape[0])"
   ]
  },
  {
   "cell_type": "code",
   "execution_count": null,
   "metadata": {},
   "outputs": [],
   "source": [
    "frame = []\n",
    "for i, emb1 in enumerate(embedding_list):\n",
    "    for j, emb2 in enumerate(embedding_list):\n",
    "        if i >= j:\n",
    "            continue\n",
    "        density = embedding_local_similarity(emb1, emb2)\n",
    "        frame.append({'mean' : density.mean(), 'std' : density.std(), 'max' : density.max()})"
   ]
  },
  {
   "cell_type": "code",
   "execution_count": null,
   "metadata": {},
   "outputs": [],
   "source": [
    "frame = pd.DataFrame(frame)"
   ]
  },
  {
   "cell_type": "code",
   "execution_count": null,
   "metadata": {},
   "outputs": [
    {
     "data": {
      "text/html": [
       "<div>\n",
       "<style scoped>\n",
       "    .dataframe tbody tr th:only-of-type {\n",
       "        vertical-align: middle;\n",
       "    }\n",
       "\n",
       "    .dataframe tbody tr th {\n",
       "        vertical-align: top;\n",
       "    }\n",
       "\n",
       "    .dataframe thead th {\n",
       "        text-align: right;\n",
       "    }\n",
       "</style>\n",
       "<table border=\"1\" class=\"dataframe\">\n",
       "  <thead>\n",
       "    <tr style=\"text-align: right;\">\n",
       "      <th></th>\n",
       "      <th>mean</th>\n",
       "      <th>std</th>\n",
       "      <th>max</th>\n",
       "    </tr>\n",
       "  </thead>\n",
       "  <tbody>\n",
       "    <tr>\n",
       "      <th>count</th>\n",
       "      <td>499500.000000</td>\n",
       "      <td>499500.000000</td>\n",
       "      <td>499500.000000</td>\n",
       "    </tr>\n",
       "    <tr>\n",
       "      <th>mean</th>\n",
       "      <td>0.024778</td>\n",
       "      <td>0.078055</td>\n",
       "      <td>0.449963</td>\n",
       "    </tr>\n",
       "    <tr>\n",
       "      <th>std</th>\n",
       "      <td>0.011696</td>\n",
       "      <td>0.010443</td>\n",
       "      <td>0.103338</td>\n",
       "    </tr>\n",
       "    <tr>\n",
       "      <th>min</th>\n",
       "      <td>-0.013246</td>\n",
       "      <td>0.056523</td>\n",
       "      <td>0.184828</td>\n",
       "    </tr>\n",
       "    <tr>\n",
       "      <th>25%</th>\n",
       "      <td>0.016910</td>\n",
       "      <td>0.071366</td>\n",
       "      <td>0.373642</td>\n",
       "    </tr>\n",
       "    <tr>\n",
       "      <th>50%</th>\n",
       "      <td>0.022968</td>\n",
       "      <td>0.075617</td>\n",
       "      <td>0.437872</td>\n",
       "    </tr>\n",
       "    <tr>\n",
       "      <th>75%</th>\n",
       "      <td>0.030532</td>\n",
       "      <td>0.081867</td>\n",
       "      <td>0.513833</td>\n",
       "    </tr>\n",
       "    <tr>\n",
       "      <th>max</th>\n",
       "      <td>0.191323</td>\n",
       "      <td>0.228130</td>\n",
       "      <td>0.997478</td>\n",
       "    </tr>\n",
       "  </tbody>\n",
       "</table>\n",
       "</div>"
      ],
      "text/plain": [
       "                mean            std            max\n",
       "count  499500.000000  499500.000000  499500.000000\n",
       "mean        0.024778       0.078055       0.449963\n",
       "std         0.011696       0.010443       0.103338\n",
       "min        -0.013246       0.056523       0.184828\n",
       "25%         0.016910       0.071366       0.373642\n",
       "50%         0.022968       0.075617       0.437872\n",
       "75%         0.030532       0.081867       0.513833\n",
       "max         0.191323       0.228130       0.997478"
      ]
     },
     "execution_count": 52,
     "metadata": {},
     "output_type": "execute_result"
    }
   ],
   "source": [
    "frame.describe()"
   ]
  },
  {
   "cell_type": "code",
   "execution_count": null,
   "metadata": {},
   "outputs": [
    {
     "data": {
      "text/plain": [
       "0.07656269"
      ]
     },
     "execution_count": 43,
     "metadata": {},
     "output_type": "execute_result"
    }
   ],
   "source": [
    "density.std()"
   ]
  },
  {
   "cell_type": "code",
   "execution_count": null,
   "metadata": {},
   "outputs": [],
   "source": []
  }
 ],
 "metadata": {
  "kernelspec": {
   "display_name": "plmblast",
   "language": "python",
   "name": "python3"
  },
  "language_info": {
   "codemirror_mode": {
    "name": "ipython",
    "version": 3
   },
   "file_extension": ".py",
   "mimetype": "text/x-python",
   "name": "python",
   "nbconvert_exporter": "python",
   "pygments_lexer": "ipython3",
   "version": "3.9.15"
  },
  "orig_nbformat": 4
 },
 "nbformat": 4,
 "nbformat_minor": 2
}
